{
 "cells": [
  {
   "cell_type": "markdown",
   "id": "936ca2ab",
   "metadata": {},
   "source": [
    "# Model Training"
   ]
  },
  {
   "cell_type": "markdown",
   "id": "0527fdac",
   "metadata": {},
   "source": [
    "### 1.1 Import required data and libraries"
   ]
  },
  {
   "cell_type": "code",
   "execution_count": 1,
   "id": "4dc4ec9c",
   "metadata": {},
   "outputs": [],
   "source": [
    "# Basic libraries\n",
    "import numpy as np\n",
    "import pandas as pd\n",
    "import matplotlib.pyplot as plt\n",
    "import seaborn as sns\n",
    "%matplotlib inline\n",
    "\n",
    "# Modeling \n",
    "from sklearn.linear_model import LinearRegression, Ridge, Lasso\n",
    "from sklearn.tree import DecisionTreeRegressor\n",
    "from sklearn.ensemble import RandomForestRegressor, AdaBoostRegressor\n",
    "from sklearn.neighbors import KNeighborsRegressor\n",
    "from sklearn.svm import SVR\n",
    "from catboost import CatBoostRegressor\n",
    "from xgboost import XGBRegressor\n",
    "\n",
    "# Metrics\n",
    "from sklearn.metrics import r2_score, mean_absolute_error, mean_squared_error\n",
    "\n",
    "# Model selction\n",
    "from sklearn.model_selection import GridSearchCV, RandomizedSearchCV, train_test_split\n",
    "\n",
    "# Preprocessing\n",
    "from sklearn.preprocessing import OneHotEncoder, StandardScaler\n",
    "\n",
    "\n",
    "import warnings"
   ]
  },
  {
   "cell_type": "markdown",
   "id": "1ad99186",
   "metadata": {},
   "source": [
    "Import CSV file as pandas dataframe"
   ]
  },
  {
   "cell_type": "code",
   "execution_count": 2,
   "id": "2cdea837",
   "metadata": {},
   "outputs": [],
   "source": [
    "df = pd.read_csv(\"data/stud.csv\")"
   ]
  },
  {
   "cell_type": "code",
   "execution_count": 3,
   "id": "4ebbb3e6",
   "metadata": {},
   "outputs": [
    {
     "data": {
      "text/html": [
       "<div>\n",
       "<style scoped>\n",
       "    .dataframe tbody tr th:only-of-type {\n",
       "        vertical-align: middle;\n",
       "    }\n",
       "\n",
       "    .dataframe tbody tr th {\n",
       "        vertical-align: top;\n",
       "    }\n",
       "\n",
       "    .dataframe thead th {\n",
       "        text-align: right;\n",
       "    }\n",
       "</style>\n",
       "<table border=\"1\" class=\"dataframe\">\n",
       "  <thead>\n",
       "    <tr style=\"text-align: right;\">\n",
       "      <th></th>\n",
       "      <th>gender</th>\n",
       "      <th>race_ethnicity</th>\n",
       "      <th>parental_level_of_education</th>\n",
       "      <th>lunch</th>\n",
       "      <th>test_preparation_course</th>\n",
       "      <th>math_score</th>\n",
       "      <th>reading_score</th>\n",
       "      <th>writing_score</th>\n",
       "    </tr>\n",
       "  </thead>\n",
       "  <tbody>\n",
       "    <tr>\n",
       "      <th>0</th>\n",
       "      <td>female</td>\n",
       "      <td>group B</td>\n",
       "      <td>bachelor's degree</td>\n",
       "      <td>standard</td>\n",
       "      <td>none</td>\n",
       "      <td>72</td>\n",
       "      <td>72</td>\n",
       "      <td>74</td>\n",
       "    </tr>\n",
       "    <tr>\n",
       "      <th>1</th>\n",
       "      <td>female</td>\n",
       "      <td>group C</td>\n",
       "      <td>some college</td>\n",
       "      <td>standard</td>\n",
       "      <td>completed</td>\n",
       "      <td>69</td>\n",
       "      <td>90</td>\n",
       "      <td>88</td>\n",
       "    </tr>\n",
       "    <tr>\n",
       "      <th>2</th>\n",
       "      <td>female</td>\n",
       "      <td>group B</td>\n",
       "      <td>master's degree</td>\n",
       "      <td>standard</td>\n",
       "      <td>none</td>\n",
       "      <td>90</td>\n",
       "      <td>95</td>\n",
       "      <td>93</td>\n",
       "    </tr>\n",
       "    <tr>\n",
       "      <th>3</th>\n",
       "      <td>male</td>\n",
       "      <td>group A</td>\n",
       "      <td>associate's degree</td>\n",
       "      <td>free/reduced</td>\n",
       "      <td>none</td>\n",
       "      <td>47</td>\n",
       "      <td>57</td>\n",
       "      <td>44</td>\n",
       "    </tr>\n",
       "    <tr>\n",
       "      <th>4</th>\n",
       "      <td>male</td>\n",
       "      <td>group C</td>\n",
       "      <td>some college</td>\n",
       "      <td>standard</td>\n",
       "      <td>none</td>\n",
       "      <td>76</td>\n",
       "      <td>78</td>\n",
       "      <td>75</td>\n",
       "    </tr>\n",
       "  </tbody>\n",
       "</table>\n",
       "</div>"
      ],
      "text/plain": [
       "   gender race_ethnicity parental_level_of_education         lunch  \\\n",
       "0  female        group B           bachelor's degree      standard   \n",
       "1  female        group C                some college      standard   \n",
       "2  female        group B             master's degree      standard   \n",
       "3    male        group A          associate's degree  free/reduced   \n",
       "4    male        group C                some college      standard   \n",
       "\n",
       "  test_preparation_course  math_score  reading_score  writing_score  \n",
       "0                    none          72             72             74  \n",
       "1               completed          69             90             88  \n",
       "2                    none          90             95             93  \n",
       "3                    none          47             57             44  \n",
       "4                    none          76             78             75  "
      ]
     },
     "execution_count": 3,
     "metadata": {},
     "output_type": "execute_result"
    }
   ],
   "source": [
    "df.head()"
   ]
  },
  {
   "cell_type": "markdown",
   "id": "3135f8cd",
   "metadata": {},
   "source": [
    "#### Preparing X and y variable"
   ]
  },
  {
   "cell_type": "code",
   "execution_count": 4,
   "id": "1d4e08e8",
   "metadata": {},
   "outputs": [],
   "source": [
    "X = df.drop(columns='math_score', axis=1)\n",
    "\n",
    "y = df['math_score']"
   ]
  },
  {
   "cell_type": "markdown",
   "id": "da287374",
   "metadata": {},
   "source": [
    "- Here we are going to predict Math score"
   ]
  },
  {
   "cell_type": "code",
   "execution_count": 5,
   "id": "ced5d21f",
   "metadata": {},
   "outputs": [],
   "source": [
    "# Create column transformer\n",
    "num_feature = X.select_dtypes(exclude=\"object\").columns\n",
    "cat_feature = X.select_dtypes(include=\"object\").columns\n",
    "\n",
    "from sklearn.compose import ColumnTransformer\n",
    "\n",
    "numeric_transformer = StandardScaler()\n",
    "oh_transformer = OneHotEncoder()\n",
    "\n",
    "preprocessor = ColumnTransformer(\n",
    "    [\n",
    "        (\"OneHotEncoder\", oh_transformer, cat_feature),\n",
    "        (\"StandardScalar\", numeric_transformer, num_feature)\n",
    "    ]\n",
    ")\n"
   ]
  },
  {
   "cell_type": "code",
   "execution_count": 6,
   "id": "556562fa",
   "metadata": {},
   "outputs": [],
   "source": [
    "X = preprocessor.fit_transform(X)"
   ]
  },
  {
   "cell_type": "code",
   "execution_count": 7,
   "id": "78b1d772",
   "metadata": {},
   "outputs": [
    {
     "data": {
      "text/plain": [
       "((800, 19), (200, 19))"
      ]
     },
     "execution_count": 7,
     "metadata": {},
     "output_type": "execute_result"
    }
   ],
   "source": [
    "X_train, X_test, y_train, y_test = train_test_split(X, y, test_size=0.2, random_state=42)\n",
    "X_train.shape, X_test.shape"
   ]
  },
  {
   "cell_type": "code",
   "execution_count": 8,
   "id": "69a88815",
   "metadata": {},
   "outputs": [],
   "source": [
    "def evaluate_model(actual, predicted):\n",
    "    mae = mean_absolute_error(actual, predicted)\n",
    "    mse = mean_squared_error(actual, predicted)\n",
    "    rmse = np.sqrt(mse)\n",
    "    r2_sc = r2_score(actual, predicted)\n",
    "    return mae, rmse, r2_sc"
   ]
  },
  {
   "cell_type": "code",
   "execution_count": 9,
   "id": "4b1f0de7",
   "metadata": {},
   "outputs": [
    {
     "name": "stdout",
     "output_type": "stream",
     "text": [
      "** Linear Regression\n",
      "Metrics for Train set\n",
      "-MAE : 4.2667\n",
      "-RMSE : 5.3231\n",
      "-R2 SCORE : 0.8743\n",
      "-----------------------------------\n",
      "Metrics for Test set\n",
      "-MAE : 4.2148\n",
      "-RMSE : 5.3940\n",
      "-R2 SCORE : 0.8804\n",
      "===================================\n",
      "\n",
      "** Lasso\n",
      "Metrics for Train set\n",
      "-MAE : 5.2063\n",
      "-RMSE : 6.5938\n",
      "-R2 SCORE : 0.8071\n",
      "-----------------------------------\n",
      "Metrics for Test set\n",
      "-MAE : 5.1579\n",
      "-RMSE : 6.5197\n",
      "-R2 SCORE : 0.8253\n",
      "===================================\n",
      "\n",
      "** Ridge\n",
      "Metrics for Train set\n",
      "-MAE : 4.2650\n",
      "-RMSE : 5.3233\n",
      "-R2 SCORE : 0.8743\n",
      "-----------------------------------\n",
      "Metrics for Test set\n",
      "-MAE : 4.2111\n",
      "-RMSE : 5.3904\n",
      "-R2 SCORE : 0.8806\n",
      "===================================\n",
      "\n",
      "** K-Neighbor Regerssor\n",
      "Metrics for Train set\n",
      "-MAE : 4.5122\n",
      "-RMSE : 5.7055\n",
      "-R2 SCORE : 0.8556\n",
      "-----------------------------------\n",
      "Metrics for Test set\n",
      "-MAE : 5.6590\n",
      "-RMSE : 7.2634\n",
      "-R2 SCORE : 0.7832\n",
      "===================================\n",
      "\n",
      "** Decision Tree\n",
      "Metrics for Train set\n",
      "-MAE : 0.0187\n",
      "-RMSE : 0.2795\n",
      "-R2 SCORE : 0.9997\n",
      "-----------------------------------\n",
      "Metrics for Test set\n",
      "-MAE : 6.4600\n",
      "-RMSE : 8.1823\n",
      "-R2 SCORE : 0.7249\n",
      "===================================\n",
      "\n",
      "** Random Forest Regressor\n",
      "Metrics for Train set\n",
      "-MAE : 1.8137\n",
      "-RMSE : 2.2751\n",
      "-R2 SCORE : 0.9770\n",
      "-----------------------------------\n",
      "Metrics for Test set\n",
      "-MAE : 4.5382\n",
      "-RMSE : 5.9476\n",
      "-R2 SCORE : 0.8546\n",
      "===================================\n",
      "\n",
      "** XGB Regressor\n",
      "Metrics for Train set\n",
      "-MAE : 0.6148\n",
      "-RMSE : 0.9087\n",
      "-R2 SCORE : 0.9963\n",
      "-----------------------------------\n",
      "Metrics for Test set\n",
      "-MAE : 5.0844\n",
      "-RMSE : 6.5889\n",
      "-R2 SCORE : 0.8216\n",
      "===================================\n",
      "\n",
      "** Catboosting Regressor\n",
      "Metrics for Train set\n",
      "-MAE : 2.4054\n",
      "-RMSE : 3.0427\n",
      "-R2 SCORE : 0.9589\n",
      "-----------------------------------\n",
      "Metrics for Test set\n",
      "-MAE : 4.6125\n",
      "-RMSE : 6.0086\n",
      "-R2 SCORE : 0.8516\n",
      "===================================\n",
      "\n",
      "** AdaBoost Regressor\n",
      "Metrics for Train set\n",
      "-MAE : 4.7937\n",
      "-RMSE : 5.7861\n",
      "-R2 SCORE : 0.8515\n",
      "-----------------------------------\n",
      "Metrics for Test set\n",
      "-MAE : 4.5861\n",
      "-RMSE : 5.9718\n",
      "-R2 SCORE : 0.8534\n",
      "===================================\n",
      "\n",
      "** SVR\n",
      "Metrics for Train set\n",
      "-MAE : 4.8692\n",
      "-RMSE : 6.5770\n",
      "-R2 SCORE : 0.8081\n",
      "-----------------------------------\n",
      "Metrics for Test set\n",
      "-MAE : 5.4015\n",
      "-RMSE : 8.1266\n",
      "-R2 SCORE : 0.7286\n",
      "===================================\n",
      "\n"
     ]
    }
   ],
   "source": [
    "models= {\n",
    "    \"Linear Regression\" : LinearRegression(),\n",
    "    \"Lasso\" : Lasso(),\n",
    "    \"Ridge\" : Ridge(),\n",
    "    \"K-Neighbor Regerssor\" : KNeighborsRegressor(),\n",
    "    \"Decision Tree\" : DecisionTreeRegressor(),\n",
    "    \"Random Forest Regressor\" : RandomForestRegressor(),\n",
    "    \"XGB Regressor\" : XGBRegressor(),\n",
    "    \"Catboosting Regressor\" : CatBoostRegressor(verbose=False),\n",
    "    \"AdaBoost Regressor\" : AdaBoostRegressor(),\n",
    "    \"SVR\" : SVR()\n",
    "}\n",
    "\n",
    "model_list = []\n",
    "r2_score_list = []\n",
    "for i in range(len(list(models))):\n",
    "    model = list(models.values())[i]\n",
    "    model.fit(X_train, y_train) # Model Training\n",
    "    \n",
    "    # Prediction\n",
    "    y_train_pred = model.predict(X_train)\n",
    "    y_test_pred = model.predict(X_test)\n",
    "    \n",
    "    model_list.append(list(models.keys())[i])\n",
    "    \n",
    "    mae_train, rmse_train, r2_train = evaluate_model(y_train, y_train_pred)\n",
    "    \n",
    "    mae_test, rmse_test, r2_test = evaluate_model(y_test, y_test_pred)\n",
    "    \n",
    "    r2_score_list.append(r2_test)\n",
    "    \n",
    "    # Evaluation\n",
    "    print(\"**\", list(models.keys())[i])\n",
    "    print(\"Metrics for Train set\")\n",
    "    print(\"-MAE : {:.4f}\".format(mae_train))\n",
    "    print(\"-RMSE : {:.4f}\".format(rmse_train))\n",
    "    print(\"-R2 SCORE : {:.4f}\".format(r2_train))\n",
    "    \n",
    "    print(\"-----------------------------------\")\n",
    "    print(\"Metrics for Test set\")\n",
    "    print(\"-MAE : {:.4f}\".format(mae_test))\n",
    "    print(\"-RMSE : {:.4f}\".format(rmse_test))\n",
    "    print(\"-R2 SCORE : {:.4f}\".format(r2_test))\n",
    "    print(\"===================================\\n\")\n",
    "    \n",
    "    \n",
    "    \n",
    "    \n",
    "    "
   ]
  },
  {
   "cell_type": "code",
   "execution_count": 10,
   "id": "5ef9b451",
   "metadata": {},
   "outputs": [
    {
     "data": {
      "text/html": [
       "<div>\n",
       "<style scoped>\n",
       "    .dataframe tbody tr th:only-of-type {\n",
       "        vertical-align: middle;\n",
       "    }\n",
       "\n",
       "    .dataframe tbody tr th {\n",
       "        vertical-align: top;\n",
       "    }\n",
       "\n",
       "    .dataframe thead th {\n",
       "        text-align: right;\n",
       "    }\n",
       "</style>\n",
       "<table border=\"1\" class=\"dataframe\">\n",
       "  <thead>\n",
       "    <tr style=\"text-align: right;\">\n",
       "      <th></th>\n",
       "      <th>Model Name</th>\n",
       "      <th>R2 Score</th>\n",
       "    </tr>\n",
       "  </thead>\n",
       "  <tbody>\n",
       "    <tr>\n",
       "      <th>2</th>\n",
       "      <td>Ridge</td>\n",
       "      <td>0.880593</td>\n",
       "    </tr>\n",
       "    <tr>\n",
       "      <th>0</th>\n",
       "      <td>Linear Regression</td>\n",
       "      <td>0.880433</td>\n",
       "    </tr>\n",
       "    <tr>\n",
       "      <th>5</th>\n",
       "      <td>Random Forest Regressor</td>\n",
       "      <td>0.854632</td>\n",
       "    </tr>\n",
       "    <tr>\n",
       "      <th>8</th>\n",
       "      <td>AdaBoost Regressor</td>\n",
       "      <td>0.853444</td>\n",
       "    </tr>\n",
       "    <tr>\n",
       "      <th>7</th>\n",
       "      <td>Catboosting Regressor</td>\n",
       "      <td>0.851632</td>\n",
       "    </tr>\n",
       "    <tr>\n",
       "      <th>1</th>\n",
       "      <td>Lasso</td>\n",
       "      <td>0.825320</td>\n",
       "    </tr>\n",
       "    <tr>\n",
       "      <th>6</th>\n",
       "      <td>XGB Regressor</td>\n",
       "      <td>0.821589</td>\n",
       "    </tr>\n",
       "    <tr>\n",
       "      <th>3</th>\n",
       "      <td>K-Neighbor Regerssor</td>\n",
       "      <td>0.783193</td>\n",
       "    </tr>\n",
       "    <tr>\n",
       "      <th>9</th>\n",
       "      <td>SVR</td>\n",
       "      <td>0.728600</td>\n",
       "    </tr>\n",
       "    <tr>\n",
       "      <th>4</th>\n",
       "      <td>Decision Tree</td>\n",
       "      <td>0.724869</td>\n",
       "    </tr>\n",
       "  </tbody>\n",
       "</table>\n",
       "</div>"
      ],
      "text/plain": [
       "                Model Name  R2 Score\n",
       "2                    Ridge  0.880593\n",
       "0        Linear Regression  0.880433\n",
       "5  Random Forest Regressor  0.854632\n",
       "8       AdaBoost Regressor  0.853444\n",
       "7    Catboosting Regressor  0.851632\n",
       "1                    Lasso  0.825320\n",
       "6            XGB Regressor  0.821589\n",
       "3     K-Neighbor Regerssor  0.783193\n",
       "9                      SVR  0.728600\n",
       "4            Decision Tree  0.724869"
      ]
     },
     "execution_count": 10,
     "metadata": {},
     "output_type": "execute_result"
    }
   ],
   "source": [
    "pd.DataFrame(list(zip(model_list, r2_score_list)), columns=[\"Model Name\", \"R2 Score\"]).sort_values(by=[\"R2 Score\"], ascending=False)"
   ]
  },
  {
   "cell_type": "markdown",
   "id": "f0645cfc",
   "metadata": {},
   "source": [
    "- From the above obsevation we are selecting Linear Regression"
   ]
  },
  {
   "cell_type": "markdown",
   "id": "4d00574c",
   "metadata": {},
   "source": [
    "### Linear Regression"
   ]
  },
  {
   "cell_type": "code",
   "execution_count": 11,
   "id": "9ec1fea4",
   "metadata": {},
   "outputs": [
    {
     "name": "stdout",
     "output_type": "stream",
     "text": [
      "Accuracy of the model is 88.04\n"
     ]
    }
   ],
   "source": [
    "lin_model = LinearRegression()\n",
    "lin_model.fit(X_train, y_train)\n",
    "y_pred = lin_model.predict(X_test)\n",
    "score = r2_score(y_test, y_pred)*100\n",
    "print(\"Accuracy of the model is %.2f\" %score)"
   ]
  },
  {
   "cell_type": "markdown",
   "id": "022509eb",
   "metadata": {},
   "source": [
    "### Plot y_test vs y_pred"
   ]
  },
  {
   "cell_type": "code",
   "execution_count": 12,
   "id": "1fc51da6",
   "metadata": {},
   "outputs": [
    {
     "data": {
      "image/png": "[encoded data removed]",
      "text/plain": [
       "<Figure size 432x288 with 1 Axes>"
      ]
     },
     "metadata": {
      "needs_background": "light"
     },
     "output_type": "display_data"
    }
   ],
   "source": [
    "plt.scatter(y_test, y_pred)\n",
    "plt.xlabel(\"Actual\")\n",
    "plt.ylabel(\"Predicted\")\n",
    "plt.show()"
   ]
  },
  {
   "cell_type": "code",
   "execution_count": 13,
   "id": "bf4d6be8",
   "metadata": {},
   "outputs": [
    {
     "data": {
      "image/png": "[encoded data removed]",
      "text/plain": [
       "<Figure size 432x288 with 1 Axes>"
      ]
     },
     "metadata": {
      "needs_background": "light"
     },
     "output_type": "display_data"
    }
   ],
   "source": [
    "sns.regplot(x=y_test, y=y_pred, color=\"g\")\n",
    "plt.show()"
   ]
  },
  {
   "cell_type": "code",
   "execution_count": null,
   "id": "3fb38365",
   "metadata": {},
   "outputs": [],
   "source": []
  }
 ],
 "metadata": {
  "kernelspec": {
   "display_name": "Python 3 (ipykernel)",
   "language": "python",
   "name": "python3"
  },
  "language_info": {
   "codemirror_mode": {
    "name": "ipython",
    "version": 3
   },
   "file_extension": ".py",
   "mimetype": "text/x-python",
   "name": "python",
   "nbconvert_exporter": "python",
   "pygments_lexer": "ipython3",
   "version": "3.9.12"
  }
 },
 "nbformat": 4,
 "nbformat_minor": 5
}
